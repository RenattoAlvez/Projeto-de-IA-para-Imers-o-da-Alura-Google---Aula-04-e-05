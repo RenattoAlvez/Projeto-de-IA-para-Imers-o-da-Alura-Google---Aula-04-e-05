{
  "nbformat": 4,
  "nbformat_minor": 0,
  "metadata": {
    "colab": {
      "provenance": [],
      "authorship_tag": "ABX9TyNZDqrh8irh2Ab3OEXlinyJ",
      "include_colab_link": true
    },
    "kernelspec": {
      "name": "python3",
      "display_name": "Python 3"
    },
    "language_info": {
      "name": "python"
    }
  },
  "cells": [
    {
      "cell_type": "markdown",
      "metadata": {
        "id": "view-in-github",
        "colab_type": "text"
      },
      "source": [
        "<a href=\"https://colab.research.google.com/github/RenattoAlvez/Projeto-de-IA-para-Imers-o-da-Alura-Google---Aula-04-e-05/blob/main/Untitled4.ipynb\" target=\"_parent\"><img src=\"https://colab.research.google.com/assets/colab-badge.svg\" alt=\"Open In Colab\"/></a>"
      ]
    },
    {
      "cell_type": "code",
      "execution_count": null,
      "metadata": {
        "colab": {
          "base_uri": "https://localhost:8080/"
        },
        "id": "2bFXJOvw6KgF",
        "outputId": "a62a077f-1611-4b08-babf-a7c69c5f6d19"
      },
      "outputs": [
        {
          "output_type": "stream",
          "name": "stdout",
          "text": [
            "Requirement already satisfied: sympy in /usr/local/lib/python3.10/dist-packages (1.12)\n",
            "Requirement already satisfied: flask in /usr/local/lib/python3.10/dist-packages (2.2.5)\n",
            "Requirement already satisfied: mpmath>=0.19 in /usr/local/lib/python3.10/dist-packages (from sympy) (1.3.0)\n",
            "Requirement already satisfied: Werkzeug>=2.2.2 in /usr/local/lib/python3.10/dist-packages (from flask) (3.0.3)\n",
            "Requirement already satisfied: Jinja2>=3.0 in /usr/local/lib/python3.10/dist-packages (from flask) (3.1.4)\n",
            "Requirement already satisfied: itsdangerous>=2.0 in /usr/local/lib/python3.10/dist-packages (from flask) (2.2.0)\n",
            "Requirement already satisfied: click>=8.0 in /usr/local/lib/python3.10/dist-packages (from flask) (8.1.7)\n",
            "Requirement already satisfied: MarkupSafe>=2.0 in /usr/local/lib/python3.10/dist-packages (from Jinja2>=3.0->flask) (2.1.5)\n",
            " * Serving Flask app '__main__'\n",
            " * Debug mode: off\n"
          ]
        },
        {
          "output_type": "stream",
          "name": "stderr",
          "text": [
            "INFO:werkzeug:\u001b[31m\u001b[1mWARNING: This is a development server. Do not use it in a production deployment. Use a production WSGI server instead.\u001b[0m\n",
            " * Running on all addresses (0.0.0.0)\n",
            " * Running on http://127.0.0.1:5000\n",
            " * Running on http://172.28.0.12:5000\n",
            "INFO:werkzeug:\u001b[33mPress CTRL+C to quit\u001b[0m\n"
          ]
        }
      ],
      "source": [
        "!pip install sympy flask\n",
        "\n",
        "from google.colab import userdata\n",
        "userdata.get('secret_chave')\n",
        "\n",
        "from sympy import symbols, Eq, solve\n",
        "from flask import Flask, request, jsonify\n",
        "\n",
        "app = Flask(__name__)\n",
        "\n",
        "@app.route('/', methods=['POST'])\n",
        "def resolver_equacao():\n",
        "  data = request.get_json()\n",
        "  equacao_str = data.get('equacao')\n",
        "\n",
        "  try:\n",
        "    x = symbols('x')\n",
        "    equacao = Eq(eval(equacao_str.replace(\"=\", \",\"))) # Converte a string em uma equação Sympy\n",
        "    solucoes = solve(equacao, x)\n",
        "\n",
        "    passos = []\n",
        "    passos.append(f\"Equação: {equacao_str}\")\n",
        "\n",
        "    # Extrair coeficientes\n",
        "    coeficientes = equacao.lhs.as_coefficients_dict()\n",
        "    a = coeficientes.get(x**2, 0)\n",
        "    b = coeficientes.get(x, 0)\n",
        "    c = coeficientes.get(1, 0)\n",
        "    passos.append(f\"Coeficientes: a = {a}, b = {b}, c = {c}\")\n",
        "\n",
        "    # Calcular delta\n",
        "    delta = b**2 - 4*a*c\n",
        "    passos.append(f\"Delta (Δ) = b² - 4ac = {delta}\")\n",
        "\n",
        "    # Aplicar a fórmula de Bhaskara\n",
        "    passos.append(f\"Calculando as raízes usando a fórmula de Bhaskara:\")\n",
        "    passos.append(\"x = (-b ± √Δ) / 2a\")\n",
        "    for i, solucao in enumerate(solucoes):\n",
        "      passos.append(f\"x{i+1} = ({-b} ± √{delta}) / (2 * {a}) = {solucao}\")\n",
        "\n",
        "    return jsonify({'solucoes': [str(sol) for sol in solucoes], 'passos': passos})\n",
        "\n",
        "  except Exception as e:\n",
        "    return jsonify({'erro': str(e)}), 500\n",
        "\n",
        "if __name__ == '__main__':\n",
        "  app.run(host='0.0.0.0', port=5000)"
      ]
    }
  ]
}